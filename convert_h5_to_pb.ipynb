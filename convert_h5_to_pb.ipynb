{
  "nbformat": 4,
  "nbformat_minor": 0,
  "metadata": {
    "colab": {
      "name": "iwatake_convert_h5_to_pb.ipynb",
      "provenance": [],
      "collapsed_sections": [],
      "include_colab_link": true
    },
    "kernelspec": {
      "name": "python3",
      "display_name": "Python 3"
    },
    "accelerator": "GPU"
  },
  "cells": [
    {
      "cell_type": "markdown",
      "metadata": {
        "id": "view-in-github",
        "colab_type": "text"
      },
      "source": [
        "<a href=\"https://colab.research.google.com/github/k-ele/for-share/blob/master/convert_h5_to_pb.ipynb\" target=\"_parent\"><img src=\"https://colab.research.google.com/assets/colab-badge.svg\" alt=\"Open In Colab\"/></a>"
      ]
    },
    {
      "cell_type": "markdown",
      "metadata": {
        "id": "1wRI1APVPbRM"
      },
      "source": [
        "# Deep Learningアプリケーション開発 (2) TensorFlow with Python\n",
        "TensorFlowモデルに変換してPythonで使用してみる\n",
        "\n",
        "https://qiita.com/iwatake2222/items/80fc73ff23d8f51650f5"
      ]
    },
    {
      "cell_type": "markdown",
      "metadata": {
        "id": "M4BRXsuBSCyf"
      },
      "source": [
        "# 環境設定"
      ]
    },
    {
      "cell_type": "code",
      "metadata": {
        "id": "noVg-PdLXdxj",
        "colab": {
          "base_uri": "https://localhost:8080/"
        },
        "outputId": "64fb3841-81c5-471c-fc87-6a31baae1a85"
      },
      "source": [
        "from google.colab import drive\n",
        "drive.mount('/content/drive')\n",
        "!ls"
      ],
      "execution_count": 1,
      "outputs": [
        {
          "output_type": "stream",
          "text": [
            "Mounted at /content/drive\n",
            "drive  sample_data\n"
          ],
          "name": "stdout"
        }
      ]
    },
    {
      "cell_type": "markdown",
      "metadata": {
        "id": "iM3ZRFCESHm4"
      },
      "source": [
        "# モデル変換 (Keras(H5) -> Tensorflow Saved model(pb))"
      ]
    },
    {
      "cell_type": "code",
      "metadata": {
        "id": "nTW4uDW_Os6R",
        "colab": {
          "base_uri": "https://localhost:8080/"
        },
        "outputId": "6e7ea86e-f7d0-42ba-b8d9-0f8ca55206b5"
      },
      "source": [
        "%tensorflow_version 2.x\n",
        "from __future__ import absolute_import, division, print_function, unicode_literals\n",
        "import tensorflow as tf\n",
        "\n",
        "print(tf.__version__)\n",
        "\n",
        "# Download Keras H5 model\n",
        "!wget -O conv_mnist.h5 \"https://drive.google.com/uc?export=download&id=1OLR1n5Pq0CGPz7Bw5pad-fvYsgCnKvHh\" \n",
        "\n",
        "# Load Keras H5 model, then save as Tensorflow saved model(pb)\n",
        "loaded_model = tf.keras.models.load_model(\"conv_mnist.h5\")\n",
        "loaded_model.save(\"conv_mnist_saved_model\", save_format=\"tf\")\n",
        "# tf.saved_model.save(model, 'saved_model')\n",
        "\n",
        "!ls -la conv_mnist_saved_model\n",
        "!tar zcvf conv_mnist_saved_model.tar.gz  conv_mnist_saved_model"
      ],
      "execution_count": 2,
      "outputs": [
        {
          "output_type": "stream",
          "text": [
            "2.4.1\n",
            "--2021-02-17 03:57:02--  https://drive.google.com/uc?export=download&id=1OLR1n5Pq0CGPz7Bw5pad-fvYsgCnKvHh\n",
            "Resolving drive.google.com (drive.google.com)... 172.217.7.174, 2607:f8b0:4004:800::200e\n",
            "Connecting to drive.google.com (drive.google.com)|172.217.7.174|:443... connected.\n",
            "HTTP request sent, awaiting response... 302 Moved Temporarily\n",
            "Location: https://doc-04-7s-docs.googleusercontent.com/docs/securesc/ha0ro937gcuc7l7deffksulhg5h7mbp1/902cofmigh7u80q1jaf9jjre2nhdkq6e/1613534175000/06137305555544994122/*/1OLR1n5Pq0CGPz7Bw5pad-fvYsgCnKvHh?e=download [following]\n",
            "Warning: wildcards not supported in HTTP.\n",
            "--2021-02-17 03:57:03--  https://doc-04-7s-docs.googleusercontent.com/docs/securesc/ha0ro937gcuc7l7deffksulhg5h7mbp1/902cofmigh7u80q1jaf9jjre2nhdkq6e/1613534175000/06137305555544994122/*/1OLR1n5Pq0CGPz7Bw5pad-fvYsgCnKvHh?e=download\n",
            "Resolving doc-04-7s-docs.googleusercontent.com (doc-04-7s-docs.googleusercontent.com)... 142.250.73.225, 2607:f8b0:4004:82a::2001\n",
            "Connecting to doc-04-7s-docs.googleusercontent.com (doc-04-7s-docs.googleusercontent.com)|142.250.73.225|:443... connected.\n",
            "HTTP request sent, awaiting response... 200 OK\n",
            "Length: 135544 (132K) [application/octet-stream]\n",
            "Saving to: ‘conv_mnist.h5’\n",
            "\n",
            "conv_mnist.h5       100%[===================>] 132.37K  --.-KB/s    in 0.02s   \n",
            "\n",
            "2021-02-17 03:57:03 (5.52 MB/s) - ‘conv_mnist.h5’ saved [135544/135544]\n",
            "\n",
            "INFO:tensorflow:Assets written to: conv_mnist_saved_model/assets\n",
            "total 136\n",
            "drwxr-xr-x 4 root root   4096 Feb 17 03:57 .\n",
            "drwxr-xr-x 1 root root   4096 Feb 17 03:57 ..\n",
            "drwxr-xr-x 2 root root   4096 Feb 17 03:57 assets\n",
            "-rw-r--r-- 1 root root 121988 Feb 17 03:57 saved_model.pb\n",
            "drwxr-xr-x 2 root root   4096 Feb 17 03:57 variables\n",
            "conv_mnist_saved_model/\n",
            "conv_mnist_saved_model/variables/\n",
            "conv_mnist_saved_model/variables/variables.index\n",
            "conv_mnist_saved_model/variables/variables.data-00000-of-00001\n",
            "conv_mnist_saved_model/assets/\n",
            "conv_mnist_saved_model/saved_model.pb\n"
          ],
          "name": "stdout"
        }
      ]
    },
    {
      "cell_type": "markdown",
      "metadata": {
        "id": "aDSdha59SvQr"
      },
      "source": [
        "## Check model information"
      ]
    },
    {
      "cell_type": "code",
      "metadata": {
        "id": "iA-Q_v8go4s7",
        "colab": {
          "base_uri": "https://localhost:8080/"
        },
        "outputId": "54946da7-912a-4d60-d637-83471777734b"
      },
      "source": [
        "!saved_model_cli show --dir conv_mnist_saved_model  --tag_set serve --signature_def serving_default"
      ],
      "execution_count": 3,
      "outputs": [
        {
          "output_type": "stream",
          "text": [
            "The given SavedModel SignatureDef contains the following input(s):\n",
            "  inputs['input_image'] tensor_info:\n",
            "      dtype: DT_FLOAT\n",
            "      shape: (-1, 28, 28, 1)\n",
            "      name: serving_default_input_image:0\n",
            "The given SavedModel SignatureDef contains the following output(s):\n",
            "  outputs['output_scores'] tensor_info:\n",
            "      dtype: DT_FLOAT\n",
            "      shape: (-1, 10)\n",
            "      name: StatefulPartitionedCall:0\n",
            "Method name is: tensorflow/serving/predict\n"
          ],
          "name": "stdout"
        }
      ]
    },
    {
      "cell_type": "markdown",
      "metadata": {
        "id": "-14cK86_MIwp"
      },
      "source": [
        "# Tensorflow saved modelによる推論テスト"
      ]
    },
    {
      "cell_type": "code",
      "metadata": {
        "id": "6Q2dC5sAyZhM",
        "colab": {
          "base_uri": "https://localhost:8080/",
          "height": 464
        },
        "outputId": "f1cc87f7-220f-49d7-cf81-05bb66223413"
      },
      "source": [
        "import cv2\n",
        "from google.colab.patches import cv2_imshow\n",
        "import numpy as np\n",
        "\n",
        "# Read input image\n",
        "!wget -O 4.jpg  \"https://drive.google.com/uc?export=download&id=1-3yb3qCrN8M6Bdj7ZZ9UMjONh34R2W_A\" \n",
        "img = cv2.imread(\"4.jpg\")\n",
        "cv2_imshow(img)\n",
        "\n",
        "# Pre process\n",
        "## グレースケール化、リサイズ、白黒判定、価範囲を0～255 -> 0.0～1.0\n",
        "img = cv2.cvtColor(img, cv2.COLOR_BGR2GRAY)\n",
        "img = cv2.resize(img, (28, 28))\n",
        "img = 255 - img\n",
        "img = img / 255.\n",
        "img = img.astype(np.float32)\n",
        "input_tensor = img.reshape(1, img.shape[0], img.shape[1], 1)\n",
        "input_tensor = tf.convert_to_tensor(input_tensor)\n",
        "\n",
        "# Load model\n",
        "loaded_model = tf.saved_model.load(\"conv_mnist_saved_model\")\n",
        "infer = loaded_model.signatures[\"serving_default\"]\n",
        "output_name = list(infer.structured_outputs.keys())[0]\n",
        "\n",
        "# Inference\n",
        "output_tensor = infer(input_tensor)[output_name]\n",
        "\n",
        "scores = output_tensor.numpy()\n",
        "result = np.argmax(scores[0])\n",
        "print(\"predicted number is {} [{:.2f}]\".format(result, scores[0][result]))"
      ],
      "execution_count": 4,
      "outputs": [
        {
          "output_type": "stream",
          "text": [
            "--2021-02-17 03:57:12--  https://drive.google.com/uc?export=download&id=1-3yb3qCrN8M6Bdj7ZZ9UMjONh34R2W_A\n",
            "Resolving drive.google.com (drive.google.com)... 172.217.7.174, 2607:f8b0:4004:800::200e\n",
            "Connecting to drive.google.com (drive.google.com)|172.217.7.174|:443... connected.\n",
            "HTTP request sent, awaiting response... 302 Moved Temporarily\n",
            "Location: https://doc-0c-7s-docs.googleusercontent.com/docs/securesc/ha0ro937gcuc7l7deffksulhg5h7mbp1/iaqv7ths6r39tj903ilq0b5v0cmo8kg3/1613534175000/06137305555544994122/*/1-3yb3qCrN8M6Bdj7ZZ9UMjONh34R2W_A?e=download [following]\n",
            "Warning: wildcards not supported in HTTP.\n",
            "--2021-02-17 03:57:12--  https://doc-0c-7s-docs.googleusercontent.com/docs/securesc/ha0ro937gcuc7l7deffksulhg5h7mbp1/iaqv7ths6r39tj903ilq0b5v0cmo8kg3/1613534175000/06137305555544994122/*/1-3yb3qCrN8M6Bdj7ZZ9UMjONh34R2W_A?e=download\n",
            "Resolving doc-0c-7s-docs.googleusercontent.com (doc-0c-7s-docs.googleusercontent.com)... 142.250.73.225, 2607:f8b0:4004:82a::2001\n",
            "Connecting to doc-0c-7s-docs.googleusercontent.com (doc-0c-7s-docs.googleusercontent.com)|142.250.73.225|:443... connected.\n",
            "HTTP request sent, awaiting response... 200 OK\n",
            "Length: 2971 (2.9K) [image/jpeg]\n",
            "Saving to: ‘4.jpg’\n",
            "\n",
            "4.jpg               100%[===================>]   2.90K  --.-KB/s    in 0s      \n",
            "\n",
            "2021-02-17 03:57:13 (164 MB/s) - ‘4.jpg’ saved [2971/2971]\n",
            "\n"
          ],
          "name": "stdout"
        },
        {
          "output_type": "display_data",
          "data": {
            "image/png": "[encoded data removed]",
            "text/plain": [
              "<PIL.Image.Image image mode=RGB size=128x128 at 0x7F8E1C09CB70>"
            ]
          },
          "metadata": {
            "tags": []
          }
        },
        {
          "output_type": "stream",
          "text": [
            "predicted number is 4 [1.00]\n"
          ],
          "name": "stdout"
        }
      ]
    },
    {
      "cell_type": "code",
      "metadata": {
        "id": "pao4EI_kmFyB",
        "colab": {
          "base_uri": "https://localhost:8080/",
          "height": 34
        },
        "outputId": "cec3ca71-0b2a-45a2-ea51-f4f0df745463"
      },
      "source": [
        "# Save to google drive\n",
        "!cp conv_mnist_saved_model.tar.gz  \"/content/drive/My Drive/test_data/number/\"\n",
        "\n",
        "# Download to local\n",
        "from google.colab import files\n",
        "files.download( \"./conv_mnist_saved_model.tar.gz\")"
      ],
      "execution_count": 5,
      "outputs": [
        {
          "output_type": "stream",
          "text": [
            "cp: cannot create regular file '/content/drive/My Drive/test_data/number/': No such file or directory\n"
          ],
          "name": "stdout"
        },
        {
          "output_type": "display_data",
          "data": {
            "application/javascript": [
              "\n",
              "    async function download(id, filename, size) {\n",
              "      if (!google.colab.kernel.accessAllowed) {\n",
              "        return;\n",
              "      }\n",
              "      const div = document.createElement('div');\n",
              "      const label = document.createElement('label');\n",
              "      label.textContent = `Downloading \"${filename}\": `;\n",
              "      div.appendChild(label);\n",
              "      const progress = document.createElement('progress');\n",
              "      progress.max = size;\n",
              "      div.appendChild(progress);\n",
              "      document.body.appendChild(div);\n",
              "\n",
              "      const buffers = [];\n",
              "      let downloaded = 0;\n",
              "\n",
              "      const channel = await google.colab.kernel.comms.open(id);\n",
              "      // Send a message to notify the kernel that we're ready.\n",
              "      channel.send({})\n",
              "\n",
              "      for await (const message of channel.messages) {\n",
              "        // Send a message to notify the kernel that we're ready.\n",
              "        channel.send({})\n",
              "        if (message.buffers) {\n",
              "          for (const buffer of message.buffers) {\n",
              "            buffers.push(buffer);\n",
              "            downloaded += buffer.byteLength;\n",
              "            progress.value = downloaded;\n",
              "          }\n",
              "        }\n",
              "      }\n",
              "      const blob = new Blob(buffers, {type: 'application/binary'});\n",
              "      const a = document.createElement('a');\n",
              "      a.href = window.URL.createObjectURL(blob);\n",
              "      a.download = filename;\n",
              "      div.appendChild(a);\n",
              "      a.click();\n",
              "      div.remove();\n",
              "    }\n",
              "  "
            ],
            "text/plain": [
              "<IPython.core.display.Javascript object>"
            ]
          },
          "metadata": {
            "tags": []
          }
        },
        {
          "output_type": "display_data",
          "data": {
            "application/javascript": [
              "download(\"download_9cfa0894-512c-4eb7-834b-57d44c1ad839\", \"conv_mnist_saved_model.tar.gz\", 109551)"
            ],
            "text/plain": [
              "<IPython.core.display.Javascript object>"
            ]
          },
          "metadata": {
            "tags": []
          }
        }
      ]
    }
  ]
}